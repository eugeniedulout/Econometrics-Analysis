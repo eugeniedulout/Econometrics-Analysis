{
 "cells": [
  {
   "cell_type": "markdown",
   "id": "69a592c8",
   "metadata": {},
   "source": [
    "Eugénie DULOUT et Jean LUCAS"
   ]
  },
  {
   "cell_type": "code",
   "execution_count": 61,
   "id": "288f9313",
   "metadata": {},
   "outputs": [],
   "source": [
    "import pandas as pd\n",
    "import numpy as np\n",
    "import matplotlib.pyplot as plt\n",
    "import scipy.stats as stats\n",
    "import statsmodels.tsa.stattools as tools\n",
    "import statsmodels.graphics.tsaplots as tsa\n",
    "import statsmodels"
   ]
  },
  {
   "cell_type": "markdown",
   "id": "f6ff1f80",
   "metadata": {},
   "source": [
    "Q1"
   ]
  },
  {
   "cell_type": "code",
   "execution_count": 120,
   "id": "97c3825b",
   "metadata": {},
   "outputs": [
    {
     "data": {
      "text/html": [
       "<div>\n",
       "<style scoped>\n",
       "    .dataframe tbody tr th:only-of-type {\n",
       "        vertical-align: middle;\n",
       "    }\n",
       "\n",
       "    .dataframe tbody tr th {\n",
       "        vertical-align: top;\n",
       "    }\n",
       "\n",
       "    .dataframe thead th {\n",
       "        text-align: right;\n",
       "    }\n",
       "</style>\n",
       "<table border=\"1\" class=\"dataframe\">\n",
       "  <thead>\n",
       "    <tr style=\"text-align: right;\">\n",
       "      <th></th>\n",
       "      <th>DATE</th>\n",
       "      <th>FFR</th>\n",
       "      <th>Tbill</th>\n",
       "      <th>Tb1yr</th>\n",
       "      <th>r5</th>\n",
       "      <th>r10</th>\n",
       "      <th>PPINSA</th>\n",
       "      <th>Finished</th>\n",
       "      <th>CPI</th>\n",
       "      <th>CPICORE</th>\n",
       "      <th>M1NSA</th>\n",
       "      <th>M2SA</th>\n",
       "      <th>M2NSA</th>\n",
       "      <th>Unemp</th>\n",
       "      <th>IndProd</th>\n",
       "      <th>RGDP</th>\n",
       "      <th>Potent</th>\n",
       "      <th>Deflator</th>\n",
       "      <th>Curr</th>\n",
       "    </tr>\n",
       "  </thead>\n",
       "  <tbody>\n",
       "    <tr>\n",
       "      <th>0</th>\n",
       "      <td>1960Q1</td>\n",
       "      <td>3.93</td>\n",
       "      <td>3.87</td>\n",
       "      <td>4.57</td>\n",
       "      <td>4.64</td>\n",
       "      <td>4.49</td>\n",
       "      <td>31.67</td>\n",
       "      <td>33.20</td>\n",
       "      <td>29.40</td>\n",
       "      <td>18.92</td>\n",
       "      <td>140.53</td>\n",
       "      <td>896.1</td>\n",
       "      <td>299.40</td>\n",
       "      <td>5.13</td>\n",
       "      <td>23.93</td>\n",
       "      <td>2845.3</td>\n",
       "      <td>2824.2</td>\n",
       "      <td>18.521</td>\n",
       "      <td>31.830</td>\n",
       "    </tr>\n",
       "    <tr>\n",
       "      <th>1</th>\n",
       "      <td>1960Q2</td>\n",
       "      <td>3.70</td>\n",
       "      <td>2.99</td>\n",
       "      <td>3.87</td>\n",
       "      <td>4.30</td>\n",
       "      <td>4.26</td>\n",
       "      <td>31.73</td>\n",
       "      <td>33.40</td>\n",
       "      <td>29.57</td>\n",
       "      <td>19.00</td>\n",
       "      <td>138.40</td>\n",
       "      <td>903.3</td>\n",
       "      <td>300.03</td>\n",
       "      <td>5.23</td>\n",
       "      <td>23.41</td>\n",
       "      <td>2832.0</td>\n",
       "      <td>2851.2</td>\n",
       "      <td>18.579</td>\n",
       "      <td>31.862</td>\n",
       "    </tr>\n",
       "    <tr>\n",
       "      <th>2</th>\n",
       "      <td>1960Q3</td>\n",
       "      <td>2.94</td>\n",
       "      <td>2.36</td>\n",
       "      <td>3.07</td>\n",
       "      <td>3.67</td>\n",
       "      <td>3.83</td>\n",
       "      <td>31.63</td>\n",
       "      <td>33.43</td>\n",
       "      <td>29.59</td>\n",
       "      <td>19.07</td>\n",
       "      <td>139.60</td>\n",
       "      <td>919.4</td>\n",
       "      <td>305.50</td>\n",
       "      <td>5.53</td>\n",
       "      <td>23.02</td>\n",
       "      <td>2836.6</td>\n",
       "      <td>2878.7</td>\n",
       "      <td>18.648</td>\n",
       "      <td>32.217</td>\n",
       "    </tr>\n",
       "    <tr>\n",
       "      <th>3</th>\n",
       "      <td>1960Q4</td>\n",
       "      <td>2.30</td>\n",
       "      <td>2.31</td>\n",
       "      <td>2.99</td>\n",
       "      <td>3.75</td>\n",
       "      <td>3.89</td>\n",
       "      <td>31.70</td>\n",
       "      <td>33.67</td>\n",
       "      <td>29.78</td>\n",
       "      <td>19.14</td>\n",
       "      <td>142.67</td>\n",
       "      <td>932.8</td>\n",
       "      <td>312.30</td>\n",
       "      <td>6.27</td>\n",
       "      <td>22.47</td>\n",
       "      <td>2800.2</td>\n",
       "      <td>2906.7</td>\n",
       "      <td>18.700</td>\n",
       "      <td>32.624</td>\n",
       "    </tr>\n",
       "    <tr>\n",
       "      <th>4</th>\n",
       "      <td>1961Q1</td>\n",
       "      <td>2.00</td>\n",
       "      <td>2.35</td>\n",
       "      <td>2.87</td>\n",
       "      <td>3.64</td>\n",
       "      <td>3.79</td>\n",
       "      <td>31.80</td>\n",
       "      <td>33.63</td>\n",
       "      <td>29.84</td>\n",
       "      <td>19.17</td>\n",
       "      <td>142.23</td>\n",
       "      <td>948.9</td>\n",
       "      <td>317.10</td>\n",
       "      <td>6.80</td>\n",
       "      <td>22.13</td>\n",
       "      <td>2816.9</td>\n",
       "      <td>2934.8</td>\n",
       "      <td>18.743</td>\n",
       "      <td>32.073</td>\n",
       "    </tr>\n",
       "    <tr>\n",
       "      <th>...</th>\n",
       "      <td>...</td>\n",
       "      <td>...</td>\n",
       "      <td>...</td>\n",
       "      <td>...</td>\n",
       "      <td>...</td>\n",
       "      <td>...</td>\n",
       "      <td>...</td>\n",
       "      <td>...</td>\n",
       "      <td>...</td>\n",
       "      <td>...</td>\n",
       "      <td>...</td>\n",
       "      <td>...</td>\n",
       "      <td>...</td>\n",
       "      <td>...</td>\n",
       "      <td>...</td>\n",
       "      <td>...</td>\n",
       "      <td>...</td>\n",
       "      <td>...</td>\n",
       "      <td>...</td>\n",
       "    </tr>\n",
       "    <tr>\n",
       "      <th>207</th>\n",
       "      <td>2011Q4</td>\n",
       "      <td>0.07</td>\n",
       "      <td>0.01</td>\n",
       "      <td>0.11</td>\n",
       "      <td>0.95</td>\n",
       "      <td>2.05</td>\n",
       "      <td>200.77</td>\n",
       "      <td>192.97</td>\n",
       "      <td>226.97</td>\n",
       "      <td>112.50</td>\n",
       "      <td>2165.77</td>\n",
       "      <td>28787.3</td>\n",
       "      <td>9599.47</td>\n",
       "      <td>8.67</td>\n",
       "      <td>95.33</td>\n",
       "      <td>13441.0</td>\n",
       "      <td>14255.9</td>\n",
       "      <td>113.987</td>\n",
       "      <td>1055.496</td>\n",
       "    </tr>\n",
       "    <tr>\n",
       "      <th>208</th>\n",
       "      <td>2012Q1</td>\n",
       "      <td>0.10</td>\n",
       "      <td>0.07</td>\n",
       "      <td>0.16</td>\n",
       "      <td>0.90</td>\n",
       "      <td>2.04</td>\n",
       "      <td>202.17</td>\n",
       "      <td>193.73</td>\n",
       "      <td>228.27</td>\n",
       "      <td>113.12</td>\n",
       "      <td>2213.97</td>\n",
       "      <td>29238.6</td>\n",
       "      <td>9777.03</td>\n",
       "      <td>8.27</td>\n",
       "      <td>96.70</td>\n",
       "      <td>13506.4</td>\n",
       "      <td>14317.4</td>\n",
       "      <td>114.599</td>\n",
       "      <td>1082.519</td>\n",
       "    </tr>\n",
       "    <tr>\n",
       "      <th>209</th>\n",
       "      <td>2012Q2</td>\n",
       "      <td>0.15</td>\n",
       "      <td>0.09</td>\n",
       "      <td>0.19</td>\n",
       "      <td>0.79</td>\n",
       "      <td>1.82</td>\n",
       "      <td>201.80</td>\n",
       "      <td>192.83</td>\n",
       "      <td>228.84</td>\n",
       "      <td>113.60</td>\n",
       "      <td>2258.30</td>\n",
       "      <td>29611.6</td>\n",
       "      <td>9888.97</td>\n",
       "      <td>8.17</td>\n",
       "      <td>97.27</td>\n",
       "      <td>13548.5</td>\n",
       "      <td>14379.3</td>\n",
       "      <td>115.035</td>\n",
       "      <td>1104.500</td>\n",
       "    </tr>\n",
       "    <tr>\n",
       "      <th>210</th>\n",
       "      <td>2012Q3</td>\n",
       "      <td>0.14</td>\n",
       "      <td>0.10</td>\n",
       "      <td>0.18</td>\n",
       "      <td>0.67</td>\n",
       "      <td>1.64</td>\n",
       "      <td>202.40</td>\n",
       "      <td>195.20</td>\n",
       "      <td>230.03</td>\n",
       "      <td>113.91</td>\n",
       "      <td>2326.47</td>\n",
       "      <td>30251.4</td>\n",
       "      <td>10029.87</td>\n",
       "      <td>8.03</td>\n",
       "      <td>97.39</td>\n",
       "      <td>13652.5</td>\n",
       "      <td>14441.9</td>\n",
       "      <td>115.810</td>\n",
       "      <td>1119.187</td>\n",
       "    </tr>\n",
       "    <tr>\n",
       "      <th>211</th>\n",
       "      <td>2012Q4</td>\n",
       "      <td>0.16</td>\n",
       "      <td>0.09</td>\n",
       "      <td>0.17</td>\n",
       "      <td>0.69</td>\n",
       "      <td>1.71</td>\n",
       "      <td>202.27</td>\n",
       "      <td>196.20</td>\n",
       "      <td>231.28</td>\n",
       "      <td>114.18</td>\n",
       "      <td>2436.73</td>\n",
       "      <td>30938.8</td>\n",
       "      <td>10319.60</td>\n",
       "      <td>7.83</td>\n",
       "      <td>98.01</td>\n",
       "      <td>13665.4</td>\n",
       "      <td>14505.4</td>\n",
       "      <td>116.089</td>\n",
       "      <td>1147.623</td>\n",
       "    </tr>\n",
       "  </tbody>\n",
       "</table>\n",
       "<p>212 rows × 19 columns</p>\n",
       "</div>"
      ],
      "text/plain": [
       "       DATE   FFR  Tbill  Tb1yr    r5   r10  PPINSA  Finished     CPI  \\\n",
       "0    1960Q1  3.93   3.87   4.57  4.64  4.49   31.67     33.20   29.40   \n",
       "1    1960Q2  3.70   2.99   3.87  4.30  4.26   31.73     33.40   29.57   \n",
       "2    1960Q3  2.94   2.36   3.07  3.67  3.83   31.63     33.43   29.59   \n",
       "3    1960Q4  2.30   2.31   2.99  3.75  3.89   31.70     33.67   29.78   \n",
       "4    1961Q1  2.00   2.35   2.87  3.64  3.79   31.80     33.63   29.84   \n",
       "..      ...   ...    ...    ...   ...   ...     ...       ...     ...   \n",
       "207  2011Q4  0.07   0.01   0.11  0.95  2.05  200.77    192.97  226.97   \n",
       "208  2012Q1  0.10   0.07   0.16  0.90  2.04  202.17    193.73  228.27   \n",
       "209  2012Q2  0.15   0.09   0.19  0.79  1.82  201.80    192.83  228.84   \n",
       "210  2012Q3  0.14   0.10   0.18  0.67  1.64  202.40    195.20  230.03   \n",
       "211  2012Q4  0.16   0.09   0.17  0.69  1.71  202.27    196.20  231.28   \n",
       "\n",
       "     CPICORE    M1NSA     M2SA     M2NSA  Unemp  IndProd     RGDP   Potent  \\\n",
       "0      18.92   140.53    896.1    299.40   5.13    23.93   2845.3   2824.2   \n",
       "1      19.00   138.40    903.3    300.03   5.23    23.41   2832.0   2851.2   \n",
       "2      19.07   139.60    919.4    305.50   5.53    23.02   2836.6   2878.7   \n",
       "3      19.14   142.67    932.8    312.30   6.27    22.47   2800.2   2906.7   \n",
       "4      19.17   142.23    948.9    317.10   6.80    22.13   2816.9   2934.8   \n",
       "..       ...      ...      ...       ...    ...      ...      ...      ...   \n",
       "207   112.50  2165.77  28787.3   9599.47   8.67    95.33  13441.0  14255.9   \n",
       "208   113.12  2213.97  29238.6   9777.03   8.27    96.70  13506.4  14317.4   \n",
       "209   113.60  2258.30  29611.6   9888.97   8.17    97.27  13548.5  14379.3   \n",
       "210   113.91  2326.47  30251.4  10029.87   8.03    97.39  13652.5  14441.9   \n",
       "211   114.18  2436.73  30938.8  10319.60   7.83    98.01  13665.4  14505.4   \n",
       "\n",
       "     Deflator      Curr  \n",
       "0      18.521    31.830  \n",
       "1      18.579    31.862  \n",
       "2      18.648    32.217  \n",
       "3      18.700    32.624  \n",
       "4      18.743    32.073  \n",
       "..        ...       ...  \n",
       "207   113.987  1055.496  \n",
       "208   114.599  1082.519  \n",
       "209   115.035  1104.500  \n",
       "210   115.810  1119.187  \n",
       "211   116.089  1147.623  \n",
       "\n",
       "[212 rows x 19 columns]"
      ]
     },
     "execution_count": 120,
     "metadata": {},
     "output_type": "execute_result"
    }
   ],
   "source": [
    "df = pd.read_excel('quarterly_projet.xls')\n",
    "\n",
    "df.dropna()"
   ]
  },
  {
   "cell_type": "markdown",
   "id": "a352142e",
   "metadata": {},
   "source": [
    "Q2"
   ]
  },
  {
   "cell_type": "code",
   "execution_count": 121,
   "id": "ab354bf2",
   "metadata": {},
   "outputs": [
    {
     "data": {
      "text/plain": [
       "Text(0.5, 1.0, 'Interest rate')"
      ]
     },
     "execution_count": 121,
     "metadata": {},
     "output_type": "execute_result"
    },
    {
     "data": {
      "image/png": "[encoded data removed]",
      "text/plain": [
       "<Figure size 432x288 with 1 Axes>"
      ]
     },
     "metadata": {
      "needs_background": "light"
     },
     "output_type": "display_data"
    }
   ],
   "source": [
    "inf = [100*(df.iloc[i]['CPI']-df.iloc[i-1]['CPI'])/df.iloc[i]['CPI'] for i in range(1,len(df))]\n",
    "years = np.linspace(1960,2012,211)\n",
    "\n",
    "plt.plot(years, inf)\n",
    "plt.xlabel('Year')\n",
    "plt.ylabel('Inflation rate')\n",
    "plt.title(\"Interest rate\")"
   ]
  },
  {
   "cell_type": "markdown",
   "id": "4162a4f2",
   "metadata": {},
   "source": [
    "L'inflation augmente globalement jusqu'en 1981, puis elle diminue jusqu'à la crise financière de 2008."
   ]
  },
  {
   "cell_type": "markdown",
   "id": "1d76c794",
   "metadata": {},
   "source": [
    "Q3"
   ]
  },
  {
   "cell_type": "code",
   "execution_count": 122,
   "id": "a6617558",
   "metadata": {},
   "outputs": [
    {
     "name": "stderr",
     "output_type": "stream",
     "text": [
      "/Users/eugeniedulout/opt/anaconda3/lib/python3.8/site-packages/statsmodels/tsa/stattools.py:657: FutureWarning: The default number of lags is changing from 40 tomin(int(10 * np.log10(nobs)), nobs - 1) after 0.12is released. Set the number of lags to an integer to  silence this warning.\n",
      "  warnings.warn(\n",
      "/Users/eugeniedulout/opt/anaconda3/lib/python3.8/site-packages/statsmodels/tsa/stattools.py:667: FutureWarning: fft=True will become the default after the release of the 0.12 release of statsmodels. To suppress this warning, explicitly set fft=False.\n",
      "  warnings.warn(\n"
     ]
    },
    {
     "data": {
      "image/png": "[encoded data removed]",
      "text/plain": [
       "<Figure size 432x288 with 1 Axes>"
      ]
     },
     "execution_count": 122,
     "metadata": {},
     "output_type": "execute_result"
    },
    {
     "data": {
      "image/png": "[encoded data removed]",
      "text/plain": [
       "<Figure size 432x288 with 1 Axes>"
      ]
     },
     "metadata": {
      "needs_background": "light"
     },
     "output_type": "display_data"
    }
   ],
   "source": [
    "tools.acf(inf)\n",
    "tsa.plot_acf(inf, lags=20)"
   ]
  },
  {
   "cell_type": "code",
   "execution_count": 123,
   "id": "c2229371",
   "metadata": {},
   "outputs": [
    {
     "name": "stderr",
     "output_type": "stream",
     "text": [
      "/Users/eugeniedulout/opt/anaconda3/lib/python3.8/site-packages/statsmodels/tsa/stattools.py:1024: FutureWarning: The default number of lags is changing from 40 tomin(int(10 * np.log10(nobs)), nobs // 2 - 1) after 0.12is released. Set the number of lags to an integer to  silence this warning.\n",
      "  warnings.warn(\n"
     ]
    },
    {
     "data": {
      "image/png": "[encoded data removed]",
      "text/plain": [
       "<Figure size 432x288 with 1 Axes>"
      ]
     },
     "execution_count": 123,
     "metadata": {},
     "output_type": "execute_result"
    },
    {
     "data": {
      "image/png": "[encoded data removed]",
      "text/plain": [
       "<Figure size 432x288 with 1 Axes>"
      ]
     },
     "metadata": {
      "needs_background": "light"
     },
     "output_type": "display_data"
    }
   ],
   "source": [
    "tools.pacf(inf)\n",
    "tsa.plot_pacf(inf, lags=20)"
   ]
  },
  {
   "cell_type": "markdown",
   "id": "a8fab245",
   "metadata": {},
   "source": [
    "L'autocorrelation d'un processus ARMA(p,q) tend exponentiellement vers 0 à partir de l'ordre q+1. Ce comportement est semblable à celui suivi par l'inflation, et on a donc q=3.  De plus, l'autocorrélation partielle se trouve dans la zone bleu ou elle oscille autour de 0 à partir d'un certain rang. La série temporelle n'est donc pas stationnaire.\n"
   ]
  },
  {
   "cell_type": "markdown",
   "id": "fbf04c9b",
   "metadata": {},
   "source": [
    "Q4"
   ]
  },
  {
   "cell_type": "markdown",
   "id": "9b4bb7e9",
   "metadata": {},
   "source": [
    "Stationnarité: Un processus stationnaire est un processus stochastique dans lequel les v.a. suivent toutes la même loi.\n",
    "\n"
   ]
  },
  {
   "cell_type": "markdown",
   "id": "91bcfce7",
   "metadata": {},
   "source": [
    "Ergodicité:"
   ]
  },
  {
   "attachments": {
    "Capture%20d%E2%80%99e%CC%81cran%202021-11-20%20a%CC%80%2023.21.55.png": {
     "image/png": "[encoded data removed]"
    }
   },
   "cell_type": "markdown",
   "id": "667d5d6c",
   "metadata": {},
   "source": [
    "![Capture%20d%E2%80%99e%CC%81cran%202021-11-20%20a%CC%80%2023.21.55.png](attachment:Capture%20d%E2%80%99e%CC%81cran%202021-11-20%20a%CC%80%2023.21.55.png)"
   ]
  },
  {
   "cell_type": "markdown",
   "id": "8f09a991",
   "metadata": {},
   "source": [
    "Ces conditions sont nécessaires pour assurer la convergence de la régression linéaire."
   ]
  },
  {
   "cell_type": "markdown",
   "id": "85d708f8",
   "metadata": {},
   "source": [
    "Q5"
   ]
  },
  {
   "cell_type": "code",
   "execution_count": 124,
   "id": "047ec8e4",
   "metadata": {},
   "outputs": [
    {
     "name": "stderr",
     "output_type": "stream",
     "text": [
      "/Users/eugeniedulout/opt/anaconda3/lib/python3.8/site-packages/statsmodels/tsa/ar_model.py:791: FutureWarning: \n",
      "statsmodels.tsa.AR has been deprecated in favor of statsmodels.tsa.AutoReg and\n",
      "statsmodels.tsa.SARIMAX.\n",
      "\n",
      "AutoReg adds the ability to specify exogenous variables, include time trends,\n",
      "and add seasonal dummies. The AutoReg API differs from AR since the model is\n",
      "treated as immutable, and so the entire specification including the lag\n",
      "length must be specified when creating the model. This change is too\n",
      "substantial to incorporate into the existing AR api. The function\n",
      "ar_select_order performs lag length selection for AutoReg models.\n",
      "\n",
      "AutoReg only estimates parameters using conditional MLE (OLS). Use SARIMAX to\n",
      "estimate ARX and related models using full MLE via the Kalman Filter.\n",
      "\n",
      "To silence this warning and continue using AR until it is removed, use:\n",
      "\n",
      "import warnings\n",
      "warnings.filterwarnings('ignore', 'statsmodels.tsa.ar_model.AR', FutureWarning)\n",
      "\n",
      "  warnings.warn(AR_DEPRECATION_WARN, FutureWarning)\n"
     ]
    },
    {
     "data": {
      "image/png": "[encoded data removed]",
      "text/plain": [
       "<Figure size 432x288 with 1 Axes>"
      ]
     },
     "metadata": {
      "needs_background": "light"
     },
     "output_type": "display_data"
    },
    {
     "name": "stdout",
     "output_type": "stream",
     "text": [
      "L'AIC est minimum pour p=3, c'est donc un processus AR(3)\n"
     ]
    }
   ],
   "source": [
    "import statsmodels.tsa.api as smt\n",
    "l_aic = []\n",
    "pval = np.arange(1,10)\n",
    "for p in pval:\n",
    "    mdl = smt.AR(inf).fit(maxlag=p)\n",
    "    l_aic.append(mdl.aic)\n",
    "plt.plot(pval, l_aic)\n",
    "plt.ylabel(\"AIC values\")\n",
    "plt.xlabel(\"p values\")\n",
    "plt.title('AIC in function of p')\n",
    "plt.show()\n",
    "print(\"L'AIC est minimum pour p=3, c'est donc un processus AR(3)\")"
   ]
  },
  {
   "cell_type": "markdown",
   "id": "466dfcf5",
   "metadata": {},
   "source": [
    "Q6"
   ]
  },
  {
   "cell_type": "code",
   "execution_count": 125,
   "id": "eb92e25b",
   "metadata": {},
   "outputs": [
    {
     "name": "stdout",
     "output_type": "stream",
     "text": [
      "                            OLS Regression Results                            \n",
      "==============================================================================\n",
      "Dep. Variable:                  Unemp   R-squared:                       0.000\n",
      "Model:                            OLS   Adj. R-squared:                 -0.005\n",
      "Method:                 Least Squares   F-statistic:                  0.008229\n",
      "Date:                Sun, 21 Nov 2021   Prob (F-statistic):              0.928\n",
      "Time:                        22:23:57   Log-Likelihood:                -400.28\n",
      "No. Observations:                 211   AIC:                             804.6\n",
      "Df Residuals:                     209   BIC:                             811.3\n",
      "Df Model:                           1                                         \n",
      "Covariance Type:            nonrobust                                         \n",
      "==============================================================================\n",
      "                 coef    std err          t      P>|t|      [0.025      0.975]\n",
      "------------------------------------------------------------------------------\n",
      "const          6.0735      0.182     33.388      0.000       5.715       6.432\n",
      "x1             0.0134      0.148      0.091      0.928      -0.279       0.305\n",
      "==============================================================================\n",
      "Omnibus:                       13.851   Durbin-Watson:                   0.044\n",
      "Prob(Omnibus):                  0.001   Jarque-Bera (JB):               15.331\n",
      "Skew:                           0.659   Prob(JB):                     0.000469\n",
      "Kurtosis:                       2.935   Cond. No.                         3.00\n",
      "==============================================================================\n",
      "\n",
      "Notes:\n",
      "[1] Standard Errors assume that the covariance matrix of the errors is correctly specified.\n"
     ]
    },
    {
     "data": {
      "image/png": "[encoded data removed]",
      "text/plain": [
       "<Figure size 432x288 with 1 Axes>"
      ]
     },
     "metadata": {
      "needs_background": "light"
     },
     "output_type": "display_data"
    }
   ],
   "source": [
    "Unemp = df['Unemp'].iloc[1:]\n",
    "\n",
    "unemp_results = statsmodels.api.OLS(Unemp, np.column_stack((np.ones(len(inf)),inf))).fit()\n",
    "print(unemp_results.summary())\n",
    "\n",
    "list = []\n",
    "for i in inf:\n",
    "    list.append(unemp_results.params[0] + unemp_results.params[1] * i)\n",
    "plt.scatter(inf,Unemp)\n",
    "plt.plot(inf, list, color='black')\n",
    "plt.xlabel(\"Inflation Rate\")\n",
    "plt.ylabel(\"Unemployment\")\n",
    "plt.title(\"Phillips curve\")\n",
    "plt.show()"
   ]
  },
  {
   "cell_type": "markdown",
   "id": "7605edb7",
   "metadata": {},
   "source": [
    "Q7"
   ]
  },
  {
   "cell_type": "markdown",
   "id": "972ca962",
   "metadata": {},
   "source": [
    "On plot les résidus du modèle."
   ]
  },
  {
   "cell_type": "code",
   "execution_count": 126,
   "id": "b66fb9f6",
   "metadata": {},
   "outputs": [
    {
     "data": {
      "text/plain": [
       "[<matplotlib.lines.Line2D at 0x7fe4568e6ee0>]"
      ]
     },
     "execution_count": 126,
     "metadata": {},
     "output_type": "execute_result"
    },
    {
     "data": {
      "image/png": "[encoded data removed]",
      "text/plain": [
       "<Figure size 432x288 with 1 Axes>"
      ]
     },
     "metadata": {
      "needs_background": "light"
     },
     "output_type": "display_data"
    }
   ],
   "source": [
    "unemp_resid = unemp_results.resid\n",
    "plt.plot(unemp_resid)"
   ]
  },
  {
   "cell_type": "markdown",
   "id": "5020f4e4",
   "metadata": {},
   "source": [
    "On étudie l'autocorrélation des résidus. Pour cela on fait un test d'autocorrélation H0: p=0"
   ]
  },
  {
   "cell_type": "code",
   "execution_count": 127,
   "id": "6f1305b9",
   "metadata": {},
   "outputs": [
    {
     "name": "stdout",
     "output_type": "stream",
     "text": [
      "                                 OLS Regression Results                                \n",
      "=======================================================================================\n",
      "Dep. Variable:                      y   R-squared (uncentered):                   0.956\n",
      "Model:                            OLS   Adj. R-squared (uncentered):              0.956\n",
      "Method:                 Least Squares   F-statistic:                              4565.\n",
      "Date:                Sun, 21 Nov 2021   Prob (F-statistic):                   5.77e-144\n",
      "Time:                        22:23:58   Log-Likelihood:                         -69.784\n",
      "No. Observations:                 210   AIC:                                      141.6\n",
      "Df Residuals:                     209   BIC:                                      144.9\n",
      "Df Model:                           1                                                  \n",
      "Covariance Type:            nonrobust                                                  \n",
      "==============================================================================\n",
      "                 coef    std err          t      P>|t|      [0.025      0.975]\n",
      "------------------------------------------------------------------------------\n",
      "x1             0.9758      0.014     67.566      0.000       0.947       1.004\n",
      "==============================================================================\n",
      "Omnibus:                       58.685   Durbin-Watson:                   0.666\n",
      "Prob(Omnibus):                  0.000   Jarque-Bera (JB):              160.436\n",
      "Skew:                          -1.196   Prob(JB):                     1.45e-35\n",
      "Kurtosis:                       6.552   Cond. No.                         1.00\n",
      "==============================================================================\n",
      "\n",
      "Notes:\n",
      "[1] R² is computed without centering (uncentered) since the model does not contain a constant.\n",
      "[2] Standard Errors assume that the covariance matrix of the errors is correctly specified.\n"
     ]
    }
   ],
   "source": [
    "x = np.column_stack((np.ones(len(inf)-1),unemp_resid[0:len(inf)-1]))[:,1]\n",
    "y = unemp_resid[1:len(inf)]\n",
    "results = statsmodels.api.OLS(x,y).fit()\n",
    "print(results.summary())"
   ]
  },
  {
   "cell_type": "markdown",
   "id": "6d75396e",
   "metadata": {},
   "source": [
    "La p-valeur est nulle, on rejette donc le test. Les erreurs sont autocorellées, il faut corriger."
   ]
  },
  {
   "cell_type": "markdown",
   "id": "b71c9211",
   "metadata": {},
   "source": [
    "Q8"
   ]
  },
  {
   "cell_type": "markdown",
   "id": "92a068bf",
   "metadata": {},
   "source": [
    "On corrige l’autocorrélation des erreurs."
   ]
  },
  {
   "cell_type": "code",
   "execution_count": 128,
   "id": "ba59cd19",
   "metadata": {},
   "outputs": [],
   "source": [
    "Unemp_corrected = [Unemp[i]-results.params[0]*Unemp[i-1] for i in range(2,len(Unemp+1))]\n",
    "x = np.column_stack((np.ones(len(inf)),inf))\n",
    "x_corrected = x[1:] - results.params[0]*x[0:len(x)-1]\n",
    "inf_corrected = x_corrected[:,1]"
   ]
  },
  {
   "cell_type": "markdown",
   "id": "99850a55",
   "metadata": {},
   "source": [
    "Q9"
   ]
  },
  {
   "cell_type": "markdown",
   "id": "33a320ca",
   "metadata": {},
   "source": [
    "On sépare en deux parties, avant et après la moitié de la période d’observation."
   ]
  },
  {
   "cell_type": "code",
   "execution_count": 129,
   "id": "7ca61153",
   "metadata": {},
   "outputs": [],
   "source": [
    "Unemp_1 = Unemp[0:105]\n",
    "Unemp_2 = Unemp[106:210]\n",
    "x1 = x[0:105]\n",
    "x2 = x[106:210]\n",
    "inf_1 = inf[0:105]\n",
    "inf_2 = inf[106:210]"
   ]
  },
  {
   "cell_type": "markdown",
   "id": "4a03428d",
   "metadata": {},
   "source": [
    "Premier SSR:"
   ]
  },
  {
   "cell_type": "code",
   "execution_count": 130,
   "id": "460820a9",
   "metadata": {},
   "outputs": [],
   "source": [
    "res0 = api.OLS(Unemp, x).fit()\n",
    "u0 = res0.resid\n",
    "SSR = u0.T@u0"
   ]
  },
  {
   "cell_type": "markdown",
   "id": "b60adebd",
   "metadata": {},
   "source": [
    "Deuxième SSR:"
   ]
  },
  {
   "cell_type": "code",
   "execution_count": 131,
   "id": "7622710d",
   "metadata": {},
   "outputs": [],
   "source": [
    "res1 = api.OLS(Unemp_1, x1).fit()\n",
    "u1 = res1.resid\n",
    "SSR1 = u1.T@u1"
   ]
  },
  {
   "cell_type": "markdown",
   "id": "1402d406",
   "metadata": {},
   "source": [
    "Troisième SSR:"
   ]
  },
  {
   "cell_type": "code",
   "execution_count": 132,
   "id": "5fae145e",
   "metadata": {},
   "outputs": [],
   "source": [
    "res2 = api.OLS(Unemp_2, x2).fit()\n",
    "u2 = res2.resid\n",
    "SSR2 = u2.T@u2"
   ]
  },
  {
   "cell_type": "code",
   "execution_count": 133,
   "id": "63409c11",
   "metadata": {},
   "outputs": [
    {
     "name": "stdout",
     "output_type": "stream",
     "text": [
      "SSR= 548.9903905121405 SSR1= 300.53602698671216 SSR2= 234.66519435565817\n",
      "La p-valeur :  0.25414746341084193\n"
     ]
    }
   ],
   "source": [
    "F = ((SSR-(SSR1+SSR2))/(SSR1+SSR2))*(len(inf)-8)/4\n",
    "p = stats.f.sf(F,1,len(inf)-2)\n",
    "print('SSR=',SSR,'SSR1=',SSR1,'SSR2=',SSR2)\n",
    "print(\"La p-valeur : \", p)"
   ]
  },
  {
   "cell_type": "markdown",
   "id": "829adedd",
   "metadata": {},
   "source": [
    "La p-valeur est plus importante, le test est stable."
   ]
  },
  {
   "cell_type": "markdown",
   "id": "f0b0b1ad",
   "metadata": {},
   "source": [
    "Q10"
   ]
  },
  {
   "cell_type": "code",
   "execution_count": 134,
   "id": "73e92a9f",
   "metadata": {},
   "outputs": [
    {
     "name": "stdout",
     "output_type": "stream",
     "text": [
      "                            OLS Regression Results                            \n",
      "==============================================================================\n",
      "Dep. Variable:                  Unemp   R-squared:                       0.979\n",
      "Model:                            OLS   Adj. R-squared:                  0.978\n",
      "Method:                 Least Squares   F-statistic:                     1143.\n",
      "Date:                Sun, 21 Nov 2021   Prob (F-statistic):          3.10e-161\n",
      "Time:                        22:24:01   Log-Likelihood:                 4.5455\n",
      "No. Observations:                 207   AIC:                             8.909\n",
      "Df Residuals:                     198   BIC:                             38.90\n",
      "Df Model:                           8                                         \n",
      "Covariance Type:            nonrobust                                         \n",
      "==============================================================================\n",
      "                 coef    std err          t      P>|t|      [0.025      0.975]\n",
      "------------------------------------------------------------------------------\n",
      "const          0.1454      0.072      2.007      0.046       0.003       0.288\n",
      "x1             0.0174      0.038      0.457      0.648      -0.058       0.092\n",
      "x2             0.0705      0.040      1.748      0.082      -0.009       0.150\n",
      "x3            -0.0204      0.041     -0.493      0.623      -0.102       0.061\n",
      "x4             0.0275      0.038      0.722      0.471      -0.048       0.102\n",
      "x5            -0.0101      0.070     -0.143      0.886      -0.148       0.128\n",
      "x6             0.0253      0.135      0.187      0.852      -0.241       0.292\n",
      "x7            -0.6476      0.134     -4.837      0.000      -0.912      -0.384\n",
      "x8             1.5931      0.071     22.379      0.000       1.453       1.733\n",
      "==============================================================================\n",
      "Omnibus:                       28.701   Durbin-Watson:                   1.997\n",
      "Prob(Omnibus):                  0.000   Jarque-Bera (JB):               67.462\n",
      "Skew:                           0.618   Prob(JB):                     2.24e-15\n",
      "Kurtosis:                       5.509   Cond. No.                         143.\n",
      "==============================================================================\n",
      "\n",
      "Notes:\n",
      "[1] Standard Errors assume that the covariance matrix of the errors is correctly specified.\n"
     ]
    }
   ],
   "source": [
    "#On rajoute les délais d'ordre 1, 2 , 3, 4\n",
    "n_unemp = len(Unemp)\n",
    "Unemp_0 = Unemp[0:n_unemp-4]\n",
    "Unemp_1 = Unemp[1:n_unemp-3]\n",
    "Unemp_2 = Unemp[2:n_unemp-2]\n",
    "Unemp_3 = Unemp[3:n_unemp-1]\n",
    "n_inf = len(inf)\n",
    "inf0 = inf[0:n_inf-4]\n",
    "inf1 = inf[1:n_inf-3]\n",
    "inf2 = inf[2:n_inf-2]\n",
    "inf3 = inf[3:n_inf-1]\n",
    "\n",
    "const = np.ones(n_unemp-4)\n",
    "x = np.column_stack((const,inf0, inf1, inf2, inf3, Unemp_0, Unemp_1, Unemp_2, Unemp_3))\n",
    "results = api.OLS(Unemp[4:], x).fit()\n",
    "print(results.summary())"
   ]
  },
  {
   "cell_type": "markdown",
   "id": "6e86c08a",
   "metadata": {},
   "source": [
    "Test de Granger:"
   ]
  },
  {
   "cell_type": "code",
   "execution_count": 135,
   "id": "60148cec",
   "metadata": {},
   "outputs": [
    {
     "name": "stdout",
     "output_type": "stream",
     "text": [
      "\n",
      "Granger Causality\n",
      "number of lags (no zero) 1\n",
      "ssr based F test:         F=8.3578  , p=0.0042  , df_denom=207, df_num=1\n",
      "ssr based chi2 test:   chi2=8.4790  , p=0.0036  , df=1\n",
      "likelihood ratio test: chi2=8.3123  , p=0.0039  , df=1\n",
      "parameter F test:         F=8.3578  , p=0.0042  , df_denom=207, df_num=1\n",
      "\n",
      "Granger Causality\n",
      "number of lags (no zero) 2\n",
      "ssr based F test:         F=4.1538  , p=0.0171  , df_denom=204, df_num=2\n",
      "ssr based chi2 test:   chi2=8.5112  , p=0.0142  , df=2\n",
      "likelihood ratio test: chi2=8.3424  , p=0.0154  , df=2\n",
      "parameter F test:         F=4.1538  , p=0.0171  , df_denom=204, df_num=2\n",
      "\n",
      "Granger Causality\n",
      "number of lags (no zero) 3\n",
      "ssr based F test:         F=4.9417  , p=0.0025  , df_denom=201, df_num=3\n",
      "ssr based chi2 test:   chi2=15.3415 , p=0.0015  , df=3\n",
      "likelihood ratio test: chi2=14.8021 , p=0.0020  , df=3\n",
      "parameter F test:         F=4.9417  , p=0.0025  , df_denom=201, df_num=3\n",
      "\n",
      "Granger Causality\n",
      "number of lags (no zero) 4\n",
      "ssr based F test:         F=3.7430  , p=0.0058  , df_denom=198, df_num=4\n",
      "ssr based chi2 test:   chi2=15.6527 , p=0.0035  , df=4\n",
      "likelihood ratio test: chi2=15.0892 , p=0.0045  , df=4\n",
      "parameter F test:         F=3.7430  , p=0.0058  , df_denom=198, df_num=4\n",
      "{1: ({'ssr_ftest': (8.35783926570071, 0.004249936223841789, 207.0, 1), 'ssr_chi2test': (8.47896737100072, 0.003592759818563595, 1), 'lrtest': (8.31226620280222, 0.003937822814832033, 1), 'params_ftest': (8.357839265700742, 0.004249936223841704, 207.0, 1.0)}, [<statsmodels.regression.linear_model.RegressionResultsWrapper object at 0x7fe4563ce6a0>, <statsmodels.regression.linear_model.RegressionResultsWrapper object at 0x7fe4553310d0>, array([[0., 1., 0.]])]), 2: ({'ssr_ftest': (4.153767777554608, 0.01705317891619206, 204.0, 2), 'ssr_chi2test': (8.511151622636401, 0.014184920555755756, 2), 'lrtest': (8.342416637257315, 0.015433600146016722, 2), 'params_ftest': (4.153767777554482, 0.01705317891619412, 204.0, 2.0)}, [<statsmodels.regression.linear_model.RegressionResultsWrapper object at 0x7fe45615d4f0>, <statsmodels.regression.linear_model.RegressionResultsWrapper object at 0x7fe45615d5b0>, array([[0., 0., 1., 0., 0.],\n",
      "       [0., 0., 0., 1., 0.]])]), 3: ({'ssr_ftest': (4.941739375548519, 0.002477913344302664, 201.0, 3), 'ssr_chi2test': (15.341519255434207, 0.0015468774967208009, 3), 'lrtest': (14.802111319092546, 0.001993810317260139, 3), 'params_ftest': (4.941739375548476, 0.0024779133443027786, 201.0, 3.0)}, [<statsmodels.regression.linear_model.RegressionResultsWrapper object at 0x7fe455316eb0>, <statsmodels.regression.linear_model.RegressionResultsWrapper object at 0x7fe4553167c0>, array([[0., 0., 0., 1., 0., 0., 0.],\n",
      "       [0., 0., 0., 0., 1., 0., 0.],\n",
      "       [0., 0., 0., 0., 0., 1., 0.]])]), 4: ({'ssr_ftest': (3.743043058749731, 0.005845116029327742, 198.0, 4), 'ssr_chi2test': (15.652725518407966, 0.003522375186621331, 4), 'lrtest': (15.089157297033239, 0.004519826626348605, 4), 'params_ftest': (3.743043058749574, 0.005845116029329253, 198.0, 4.0)}, [<statsmodels.regression.linear_model.RegressionResultsWrapper object at 0x7fe455316e80>, <statsmodels.regression.linear_model.RegressionResultsWrapper object at 0x7fe455316d90>, array([[0., 0., 0., 0., 1., 0., 0., 0., 0.],\n",
      "       [0., 0., 0., 0., 0., 1., 0., 0., 0.],\n",
      "       [0., 0., 0., 0., 0., 0., 1., 0., 0.],\n",
      "       [0., 0., 0., 0., 0., 0., 0., 1., 0.]])])}\n"
     ]
    }
   ],
   "source": [
    "print(tools.grangercausalitytests(np.column_stack((Unemp, inf)),4))"
   ]
  },
  {
   "cell_type": "markdown",
   "id": "ca3d87fd",
   "metadata": {},
   "source": [
    "Q11"
   ]
  },
  {
   "cell_type": "code",
   "execution_count": 136,
   "id": "f3656382",
   "metadata": {},
   "outputs": [
    {
     "name": "stdout",
     "output_type": "stream",
     "text": [
      "                            OLS Regression Results                            \n",
      "==============================================================================\n",
      "Dep. Variable:                  Unemp   R-squared:                       0.087\n",
      "Model:                            OLS   Adj. R-squared:                  0.069\n",
      "Method:                 Least Squares   F-statistic:                     4.820\n",
      "Date:                Sun, 21 Nov 2021   Prob (F-statistic):           0.000982\n",
      "Time:                        22:24:03   Log-Likelihood:                -384.94\n",
      "No. Observations:                 207   AIC:                             779.9\n",
      "Df Residuals:                     202   BIC:                             796.5\n",
      "Df Model:                           4                                         \n",
      "Covariance Type:            nonrobust                                         \n",
      "==============================================================================\n",
      "                 coef    std err          t      P>|t|      [0.025      0.975]\n",
      "------------------------------------------------------------------------------\n",
      "const          5.6859      0.195     29.231      0.000       5.302       6.069\n",
      "x1             0.7599      0.234      3.248      0.001       0.299       1.221\n",
      "x2             0.0926      0.261      0.355      0.723      -0.422       0.607\n",
      "x3             0.0309      0.262      0.118      0.906      -0.485       0.547\n",
      "x4            -0.4718      0.235     -2.011      0.046      -0.934      -0.009\n",
      "==============================================================================\n",
      "Omnibus:                       34.258   Durbin-Watson:                   0.109\n",
      "Prob(Omnibus):                  0.000   Jarque-Bera (JB):               49.287\n",
      "Skew:                           0.971   Prob(JB):                     1.98e-11\n",
      "Kurtosis:                       4.395   Cond. No.                         8.02\n",
      "==============================================================================\n",
      "\n",
      "Notes:\n",
      "[1] Standard Errors assume that the covariance matrix of the errors is correctly specified.\n"
     ]
    },
    {
     "data": {
      "text/plain": [
       "Text(0.5, 1.0, 'Délais distribués')"
      ]
     },
     "execution_count": 136,
     "metadata": {},
     "output_type": "execute_result"
    },
    {
     "data": {
      "image/png": "[encoded data removed]",
      "text/plain": [
       "<Figure size 432x288 with 1 Axes>"
      ]
     },
     "metadata": {
      "needs_background": "light"
     },
     "output_type": "display_data"
    }
   ],
   "source": [
    "x = np.column_stack((const, inf0, inf1, inf2, inf3))\n",
    "results = api.OLS(Unemp[4:], x).fit()\n",
    "print(results.summary())\n",
    "plt.plot([1,2,3,4], results.params[1:])\n",
    "plt.title(\"Délais distribués\")"
   ]
  },
  {
   "cell_type": "code",
   "execution_count": 137,
   "id": "c9819b87",
   "metadata": {},
   "outputs": [
    {
     "name": "stdout",
     "output_type": "stream",
     "text": [
      "L'impact à long terme de l’inflation sur le chômage est de: 41.15788466359076 %\n"
     ]
    }
   ],
   "source": [
    "print(\"L'impact à long terme de l’inflation sur le chômage est de:\", results.params[1:].sum()*100, \"%\")"
   ]
  }
 ],
 "metadata": {
  "kernelspec": {
   "display_name": "Python 3",
   "language": "python",
   "name": "python3"
  },
  "language_info": {
   "codemirror_mode": {
    "name": "ipython",
    "version": 3
   },
   "file_extension": ".py",
   "mimetype": "text/x-python",
   "name": "python",
   "nbconvert_exporter": "python",
   "pygments_lexer": "ipython3",
   "version": "3.8.8"
  }
 },
 "nbformat": 4,
 "nbformat_minor": 5
}
